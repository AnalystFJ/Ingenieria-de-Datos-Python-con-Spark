{
 "cells": [
  {
   "cell_type": "code",
   "execution_count": null,
   "metadata": {},
   "outputs": [],
   "source": [
    "from pyspark.sql import SparkSession\n",
    "\n",
    "# Crear una Spark Session\n",
    "spark = SparkSession.builder.appName(\"ConsultaSQL\").getOrCreate()\n",
    "\n",
    "# Crear una DataFrame temporal\n",
    "data = [(\"Alice\", 1), (\"Bob\", 2)]\n",
    "columns = [\"nombre\", \"id\"]\n",
    "df = spark.createDataFrame(data, columns)\n",
    "\n",
    "# Registrar el DataFrame como una vista temporal\n",
    "df.createOrReplaceTempView(\"personas\")\n",
    "\n",
    "# Ejecutar una consulta SQL\n",
    "result = spark.sql(\"SELECT * FROM personas\")\n",
    "result.show()\n"
   ]
  }
 ],
 "metadata": {
  "kernelspec": {
   "display_name": "Python 3",
   "language": "python",
   "name": "python3"
  },
  "language_info": {
   "name": "python",
   "version": "3.7.8"
  }
 },
 "nbformat": 4,
 "nbformat_minor": 2
}
