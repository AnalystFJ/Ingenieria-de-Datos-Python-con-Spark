{
 "cells": [
  {
   "cell_type": "code",
   "execution_count": null,
   "metadata": {},
   "outputs": [],
   "source": [
    "from pyspark.sql import SparkSession\n",
    "\n",
    "# Crear una Spark Session\n",
    "spark = SparkSession.builder.appName(\"EscribirDatos\").getOrCreate()\n",
    "\n",
    "# Crear un DataFrame de ejemplo\n",
    "data = [(\"Alice\", 1), (\"Bob\", 2)]\n",
    "columns = [\"nombre\", \"id\"]\n",
    "df = spark.createDataFrame(data, columns)\n",
    "\n",
    "# Escribir el DataFrame a un archivo CSV\n",
    "df.write.csv(\"ruta/de/salida.csv\")\n"
   ]
  }
 ],
 "metadata": {
  "kernelspec": {
   "display_name": "Python 3",
   "language": "python",
   "name": "python3"
  },
  "language_info": {
   "name": "python",
   "version": "3.7.8"
  }
 },
 "nbformat": 4,
 "nbformat_minor": 2
}
