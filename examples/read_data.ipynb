{
 "cells": [
  {
   "cell_type": "code",
   "execution_count": null,
   "metadata": {},
   "outputs": [],
   "source": [
    "from pyspark.sql import SparkSession\n",
    "\n",
    "# Crear una Spark Session\n",
    "spark = SparkSession.builder.appName(\"LeerDatos\").getOrCreate()\n",
    "\n",
    "# Leer un archivo JSON\n",
    "df = spark.read.json(\"ruta/al/archivo.json\")\n",
    "df.show()\n"
   ]
  }
 ],
 "metadata": {
  "kernelspec": {
   "display_name": "Python 3",
   "language": "python",
   "name": "python3"
  },
  "language_info": {
   "name": "python",
   "version": "3.7.8"
  }
 },
 "nbformat": 4,
 "nbformat_minor": 2
}
